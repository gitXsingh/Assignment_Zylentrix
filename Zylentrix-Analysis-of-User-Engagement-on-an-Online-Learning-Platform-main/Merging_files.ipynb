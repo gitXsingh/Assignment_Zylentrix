{
 "cells": [
  {
   "cell_type": "code",
   "execution_count": 2,
   "id": "1bd2e786",
   "metadata": {},
   "outputs": [],
   "source": [
    "import pandas as pd"
   ]
  },
  {
   "cell_type": "code",
   "execution_count": null,
   "id": "b7a2e907",
   "metadata": {},
   "outputs": [],
   "source": [
    "\n",
    "# Load the cleaned CSV files\n",
    "students_df = pd.read_csv(\"clean_students.csv\")\n",
    "course_activity_df = pd.read_csv(\"clean_course_activity.csv\")\n",
    "feedback_df = pd.read_csv(\"clean_feedback.csv\")\n",
    "\n",
    "# Merge: activity + students\n",
    "merged_df = course_activity_df.merge(students_df, on=\"Student_ID\", how=\"left\")\n",
    "\n",
    "# Merge: result + feedback\n",
    "merged_df = merged_df.merge(feedback_df, on=[\"Student_ID\", \"Course_ID\"], how=\"left\")\n",
    "\n",
    "\n",
    "merged_df.to_csv(\"clean_merged_data.csv\", index=False)\n",
    "\n",
    "print(\"Merged file saved as clean_merged_data.csv\")\n"
   ]
  }
 ],
 "metadata": {
  "kernelspec": {
   "display_name": "base",
   "language": "python",
   "name": "python3"
  },
  "language_info": {
   "codemirror_mode": {
    "name": "ipython",
    "version": 3
   },
   "file_extension": ".py",
   "mimetype": "text/x-python",
   "name": "python",
   "nbconvert_exporter": "python",
   "pygments_lexer": "ipython3",
   "version": "3.9.12"
  }
 },
 "nbformat": 4,
 "nbformat_minor": 5
}
